{
  "nbformat": 4,
  "nbformat_minor": 0,
  "metadata": {
    "colab": {
      "provenance": [],
      "authorship_tag": "ABX9TyPZC6oEJQ4bwkSe9Ov1MVut",
      "include_colab_link": true
    },
    "kernelspec": {
      "name": "python3",
      "display_name": "Python 3"
    },
    "language_info": {
      "name": "python"
    }
  },
  "cells": [
    {
      "cell_type": "markdown",
      "metadata": {
        "id": "view-in-github",
        "colab_type": "text"
      },
      "source": [
        "<a href=\"https://colab.research.google.com/github/AyushSrivastava27/150-dsa-problems/blob/main/Top_Interview_150.ipynb\" target=\"_parent\"><img src=\"https://colab.research.google.com/assets/colab-badge.svg\" alt=\"Open In Colab\"/></a>"
      ]
    },
    {
      "cell_type": "markdown",
      "source": [
        "### 1. [Merge Sorted Array](https://leetcode.com/problems/merge-sorted-array/description/?envType=study-plan-v2&envId=top-interview-150)"
      ],
      "metadata": {
        "id": "N_mlHA2TuO_x"
      }
    },
    {
      "cell_type": "code",
      "source": [
        "for i in range(m,len(nums1)):\n",
        "    nums1[i] = nums2[i-m]\n",
        "\n",
        "nums1 = nums1.sort()"
      ],
      "metadata": {
        "id": "oIlvDa09uUwN"
      },
      "execution_count": null,
      "outputs": []
    },
    {
      "cell_type": "markdown",
      "source": [
        "### 2. [Remove Element](https://leetcode.com/problems/remove-element/description/?envType=study-plan-v2&envId=top-interview-150)"
      ],
      "metadata": {
        "id": "J_rw3YIEs5nb"
      }
    },
    {
      "cell_type": "code",
      "execution_count": null,
      "metadata": {
        "id": "YOYw3WS_gDyz"
      },
      "outputs": [],
      "source": [
        "count = nums.count(val)\n",
        "for i in range(count):\n",
        "    nums.remove(val)\n",
        "    nums.append(101)\n",
        "return len(nums) - count"
      ]
    },
    {
      "cell_type": "markdown",
      "source": [
        "### 3. [Remove Duplicates from Sorted Array](https://leetcode.com/problems/remove-duplicates-from-sorted-array/description/?envType=study-plan-v2&envId=top-interview-150)"
      ],
      "metadata": {
        "id": "0BBe7Rnj7MhB"
      }
    },
    {
      "cell_type": "code",
      "source": [
        "index = 1\n",
        "for i in range(1, len(nums)):\n",
        "    if nums[i-1] != nums[i]:\n",
        "        nums[index] = nums[i]\n",
        "        index += 1\n",
        "return index"
      ],
      "metadata": {
        "id": "_GQkAWBe7Zmg"
      },
      "execution_count": null,
      "outputs": []
    },
    {
      "cell_type": "markdown",
      "source": [
        "### 4. [Remove Duplicates from Sorted Array II](https://leetcode.com/problems/remove-duplicates-from-sorted-array-ii/description/?envType=study-plan-v2&envId=top-interview-150)"
      ],
      "metadata": {
        "id": "153rxpbdekLa"
      }
    },
    {
      "cell_type": "code",
      "source": [
        "def removeDuplicates(self, nums: List[int]) -> int:\n",
        "\n",
        "    index = 1\n",
        "    occurance = 1\n",
        "\n",
        "    for i in range(1, len(nums)):\n",
        "        if nums[i] == nums[i-1]:\n",
        "            occurance += 1\n",
        "        else:\n",
        "            occurance = 1\n",
        "\n",
        "        if occurance <= 2:\n",
        "            nums[index] = nums[i]\n",
        "            index += 1\n",
        "\n",
        "    return index"
      ],
      "metadata": {
        "id": "asv6H4eje5Ov"
      },
      "execution_count": null,
      "outputs": []
    },
    {
      "cell_type": "markdown",
      "source": [
        "### 5. [Majority Element](https://leetcode.com/problems/majority-element/description/?envType=study-plan-v2&envId=top-interview-150)"
      ],
      "metadata": {
        "id": "4L9_4Hxye6VE"
      }
    },
    {
      "cell_type": "code",
      "source": [
        "def majorityElement(self, nums: List[int]) -> int:\n",
        "        dict = {}\n",
        "        for i in set(nums):\n",
        "            dict[i] = nums.count(i)\n",
        "        key = [k for k,v in dict.items() if v==max(dict.values())]\n",
        "        return key[0]"
      ],
      "metadata": {
        "id": "pR2DHEYqfDuP"
      },
      "execution_count": null,
      "outputs": []
    },
    {
      "cell_type": "markdown",
      "source": [
        "### 6. [Rotate Array](https://leetcode.com/problems/rotate-array/description/?envType=study-plan-v2&envId=top-interview-150)"
      ],
      "metadata": {
        "id": "lg1r-ygXb-FE"
      }
    },
    {
      "cell_type": "code",
      "source": [
        "  def rotate(self, nums: List[int], k: int) -> None:\n",
        "      if len(nums) == 0:\n",
        "          return []\n",
        "      if k == 0:\n",
        "          return nums\n",
        "      if k > len(nums):\n",
        "          k = k % len(nums)\n",
        "      nums.reverse()\n",
        "      nums[:k] = reversed(nums[:k])\n",
        "      nums[k:] = reversed(nums[k:])"
      ],
      "metadata": {
        "id": "vRhFdUJgcLiF"
      },
      "execution_count": null,
      "outputs": []
    },
    {
      "cell_type": "markdown",
      "source": [
        "### 7. [Best Time to Buy and Sell Stock](https://leetcode.com/problems/best-time-to-buy-and-sell-stock/description/?envType=study-plan-v2&envId=top-interview-150)"
      ],
      "metadata": {
        "id": "4zSIkXHPpdHs"
      }
    },
    {
      "cell_type": "code",
      "source": [
        "def maxProfit(self, prices: List[int]) -> int:\n",
        "    min_price = prices[0]\n",
        "    max_profit = 0\n",
        "\n",
        "    for i in prices[1:]:\n",
        "        max_profit = max(max_profit, i-min_price)\n",
        "        min_price = min(min_price, i)\n",
        "\n",
        "    return max_profit"
      ],
      "metadata": {
        "id": "r1lM0BiFpmXU"
      },
      "execution_count": null,
      "outputs": []
    },
    {
      "cell_type": "markdown",
      "source": [
        "### 8. [Best Time to Buy and Sell Stock II](https://leetcode.com/problems/best-time-to-buy-and-sell-stock-ii/description/?envType=study-plan-v2&envId=top-interview-150)"
      ],
      "metadata": {
        "id": "6oIwxkFMrI8c"
      }
    },
    {
      "cell_type": "code",
      "source": [
        "class Solution:\n",
        "    def maxProfit(self, prices: List[int]) -> int:\n",
        "        max = 0\n",
        "        for i in range(1, len(prices)):\n",
        "            if prices[i] > prices[i-1]:\n",
        "                max += prices[i] - prices[i-1]\n",
        "        return max"
      ],
      "metadata": {
        "id": "H1TxwtGerJeT"
      },
      "execution_count": null,
      "outputs": []
    },
    {
      "cell_type": "markdown",
      "source": [
        "### 9. [Jump Game](https://leetcode.com/problems/jump-game/description/?envType=study-plan-v2&envId=top-interview-150)"
      ],
      "metadata": {
        "id": "tTQeav2IxhRH"
      }
    },
    {
      "cell_type": "code",
      "source": [
        "class Solution:\n",
        "    def canJump(self, nums: List[int]) -> bool:\n",
        "        curr = nums[0]\n",
        "        for i in range(1,len(nums)):\n",
        "            if curr == 0:\n",
        "                return False\n",
        "            curr -= 1\n",
        "            curr = max(curr, nums[i])\n",
        "        return True"
      ],
      "metadata": {
        "id": "987vUvqWxhxJ"
      },
      "execution_count": null,
      "outputs": []
    },
    {
      "cell_type": "markdown",
      "source": [
        "### 10. [Jump Game II](https://leetcode.com/problems/jump-game-ii/description/?envType=study-plan-v2&envId=top-interview-150)"
      ],
      "metadata": {
        "id": "DUbbl1YsvLLy"
      }
    },
    {
      "cell_type": "markdown",
      "source": [],
      "metadata": {
        "id": "x-RkmIdgvU0c"
      }
    },
    {
      "cell_type": "markdown",
      "source": [
        "### 11. [H-Index](https://leetcode.com/problems/h-index/description/?envType=study-plan-v2&envId=top-interview-150)"
      ],
      "metadata": {
        "id": "1vYNuNXwLZOg"
      }
    },
    {
      "cell_type": "code",
      "source": [
        "def hIndex(self, citations: List[int]) -> int:\n",
        "    length = len(citations)\n",
        "    citations.sort()\n",
        "    for i in range(length):\n",
        "        if citations[i] >= length - i:\n",
        "            return length - i\n",
        "    return 0"
      ],
      "metadata": {
        "id": "aEfu_YeWLYao"
      },
      "execution_count": null,
      "outputs": []
    },
    {
      "cell_type": "markdown",
      "source": [
        "### 12. [Insert Delete GetRandom](https://leetcode.com/problems/insert-delete-getrandom-o1/description/?envType=study-plan-v2&envId=top-interview-150)"
      ],
      "metadata": {
        "id": "ZdDik0A1y42w"
      }
    },
    {
      "cell_type": "code",
      "source": [
        "class RandomizedSet:\n",
        "\n",
        "    def __init__(self):\n",
        "        self.set = set()\n",
        "\n",
        "    def insert(self, val: int) -> bool:\n",
        "        if val in self.set:\n",
        "            return False\n",
        "        self.set.add(val)\n",
        "        return True\n",
        "\n",
        "    def remove(self, val: int) -> bool:\n",
        "        if val in self.set:\n",
        "            self.set.remove(val)\n",
        "            return True\n",
        "        return False\n",
        "\n",
        "    def getRandom(self) -> int:\n",
        "        return random.choice(tuple(self.set))"
      ],
      "metadata": {
        "id": "HFwKUgdqzDLV"
      },
      "execution_count": null,
      "outputs": []
    },
    {
      "cell_type": "markdown",
      "source": [
        "### 13. [Product of Array Except Self](https://leetcode.com/problems/product-of-array-except-self/description/?envType=study-plan-v2&envId=top-interview-150)"
      ],
      "metadata": {
        "id": "isxAHDIb6X85"
      }
    },
    {
      "cell_type": "code",
      "source": [
        "def productExceptSelf(self, nums: List[int]) -> List[int]:\n",
        "    n = len(nums)\n",
        "    lp = [1] * n\n",
        "    rp = [1] * n\n",
        "\n",
        "    for i in range(1, n):\n",
        "        lp[i] = lp[i-1] * nums[i-1]\n",
        "\n",
        "    for i in range(n-2, -1, -1):\n",
        "        rp[i] = rp[i+1] * nums[i+1]\n",
        "\n",
        "    answer = [lp[i] * rp[i] for i in range(n)]\n",
        "\n",
        "    return answer"
      ],
      "metadata": {
        "id": "4tFFw3YK6Tq1"
      },
      "execution_count": null,
      "outputs": []
    },
    {
      "cell_type": "markdown",
      "source": [
        "### 14. [Gas Station](https://leetcode.com/problems/gas-station/description/?envType=study-plan-v2&envId=top-interview-150)"
      ],
      "metadata": {
        "id": "TpqAB7p1XHCw"
      }
    },
    {
      "cell_type": "code",
      "source": [
        "def canCompleteCircuit(self, gas: List[int], cost: List[int]) -> int:\n",
        "    if sum(gas) < sum(cost):\n",
        "        return -1\n",
        "    result = 0\n",
        "    s = 0\n",
        "    for i in range(len(gas)):\n",
        "        s += gas[i] - cost[i]\n",
        "        if s < 0:\n",
        "            s = 0\n",
        "            result = (i+1) % len(gas)\n",
        "    return result\n"
      ],
      "metadata": {
        "id": "S0CASWxyXHwO"
      },
      "execution_count": null,
      "outputs": []
    },
    {
      "cell_type": "markdown",
      "source": [
        "### 19. [Length of the last word](https://leetcode.com/problems/length-of-last-word/description/?envType=study-plan-v2&envId=top-interview-150)"
      ],
      "metadata": {
        "id": "mJPucldZqk8b"
      }
    },
    {
      "cell_type": "code",
      "source": [
        "def lengthOfLastWord(self, s: str) -> int:\n",
        "      s = s.strip()\n",
        "      l = list(s.split(\" \"))\n",
        "      return len(l[-1])"
      ],
      "metadata": {
        "id": "Lnon4gYI6haC"
      },
      "execution_count": null,
      "outputs": []
    },
    {
      "cell_type": "markdown",
      "source": [
        "### 20. [Longest Common Prefix](https://leetcode.com/problems/longest-common-prefix/description/?envType=study-plan-v2&envId=top-interview-150)"
      ],
      "metadata": {
        "id": "qY6qz6nCtPSl"
      }
    },
    {
      "cell_type": "code",
      "source": [
        "def longestCommonPrefix(self, strs: List[str]) -> str:\n",
        "    res = \"\"\n",
        "    for a in zip(*strs):\n",
        "        if len(set(a)) == 1:\n",
        "            res += a[0]\n",
        "        else:\n",
        "            return res\n",
        "    return res"
      ],
      "metadata": {
        "id": "caamKih_tGV-"
      },
      "execution_count": null,
      "outputs": []
    },
    {
      "cell_type": "markdown",
      "source": [
        "### 21. [Reverse Words in a String](https://leetcode.com/problems/reverse-words-in-a-string/?envType=study-plan-v2&envId=top-interview-150)"
      ],
      "metadata": {
        "id": "RCYc32GT1m6N"
      }
    },
    {
      "cell_type": "code",
      "source": [
        "def reverseWords(self, s: str) -> str:\n",
        "    l = s.split()\n",
        "    l.reverse()\n",
        "    s1 = \" \".join(l)\n",
        "\n",
        "    return s1.strip()"
      ],
      "metadata": {
        "id": "BLxnW0xD1jla"
      },
      "execution_count": null,
      "outputs": []
    },
    {
      "cell_type": "markdown",
      "source": [
        "### 22. [ZigZag Conversion](https://leetcode.com/problems/zigzag-conversion/description/?envType=study-plan-v2&envId=top-interview-150)"
      ],
      "metadata": {
        "id": "a-O_EIA_7YuK"
      }
    },
    {
      "cell_type": "code",
      "source": [
        "class Solution:\n",
        "    def convert(self, s: str, numRows: int) -> str:\n",
        "        if numRows == 1:\n",
        "            return s\n",
        "\n",
        "        a = ['']*numRows\n",
        "        k = index = 0\n",
        "\n",
        "        for letter in s:\n",
        "            a[k%numRows] += letter\n",
        "\n",
        "            if k == numRows-1:\n",
        "                index = 1\n",
        "            if k == 0:\n",
        "                index = 0\n",
        "            k = k+1 if index == 0 else k-1\n",
        "\n",
        "        result = a[0]\n",
        "        for i in a[1:]:\n",
        "            result += i\n",
        "        return result"
      ],
      "metadata": {
        "id": "XcsUt4qJ7lnM"
      },
      "execution_count": null,
      "outputs": []
    },
    {
      "cell_type": "markdown",
      "source": [
        "### 23. [Find the Index of the First Occurrence in a String](https://leetcode.com/problems/find-the-index-of-the-first-occurrence-in-a-string/description/?envType=study-plan-v2&envId=top-interview-150)"
      ],
      "metadata": {
        "id": "P3J034C1iI9T"
      }
    },
    {
      "cell_type": "code",
      "source": [
        "def strStr(self, haystack: str, needle: str) -> int:\n",
        "    if needle in haystack:\n",
        "        return haystack.index(needle)\n",
        "    return -1"
      ],
      "metadata": {
        "id": "BNWUhYC1iVdl"
      },
      "execution_count": null,
      "outputs": []
    },
    {
      "cell_type": "markdown",
      "source": [
        "24. [Text Justification](https://leetcode.com/problems/text-justification/description/?envType=study-plan-v2&envId=top-interview-150)"
      ],
      "metadata": {
        "id": "8oiStN_iingL"
      }
    },
    {
      "cell_type": "code",
      "source": [
        "class Solution:\n",
        "    def fullJustify(self, words: List[str], maxWidth: int) -> List[str]:\n",
        "        res, line, width = [], [], 0\n",
        "\n",
        "        for w in words:\n",
        "            if width + len(w) + len(line) > maxWidth:\n",
        "                for i in range(maxWidth - width): line[i % (len(line) - 1 or 1)] += ' '\n",
        "                res, line, width = res + [''.join(line)], [], 0\n",
        "            line += [w]\n",
        "            width += len(w)\n",
        "\n",
        "        return res + [' '.join(line).ljust(maxWidth)]"
      ],
      "metadata": {
        "id": "wvgkSs-rixeE"
      },
      "execution_count": null,
      "outputs": []
    },
    {
      "cell_type": "markdown",
      "source": [
        "## Two Pointers"
      ],
      "metadata": {
        "id": "pwNuKJ5NtISo"
      }
    },
    {
      "cell_type": "markdown",
      "source": [
        "### 25. [Valid Palindrome](https://leetcode.com/problems/valid-palindrome/description/?envType=study-plan-v2&envId=top-interview-150)"
      ],
      "metadata": {
        "id": "GoEHjWQLzEqU"
      }
    },
    {
      "cell_type": "code",
      "source": [
        "def isPalindrome(self, s: str) -> bool:\n",
        "    strs = \"\"\n",
        "    for a in s:\n",
        "        if a.isalnum():\n",
        "            strs += a.lower()\n",
        "\n",
        "    if strs == strs[::-1]:\n",
        "        return True\n",
        "    return False"
      ],
      "metadata": {
        "id": "aq1Og01DzD4i"
      },
      "execution_count": null,
      "outputs": []
    }
  ]
}