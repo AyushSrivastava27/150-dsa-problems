{
  "nbformat": 4,
  "nbformat_minor": 0,
  "metadata": {
    "colab": {
      "provenance": [],
      "authorship_tag": "ABX9TyOcRG/3+l1bDo2Sh4+OvWb4",
      "include_colab_link": true
    },
    "kernelspec": {
      "name": "python3",
      "display_name": "Python 3"
    },
    "language_info": {
      "name": "python"
    }
  },
  "cells": [
    {
      "cell_type": "markdown",
      "metadata": {
        "id": "view-in-github",
        "colab_type": "text"
      },
      "source": [
        "<a href=\"https://colab.research.google.com/github/AyushSrivastava27/150-dsa-problems/blob/main/Top_Interview_150.ipynb\" target=\"_parent\"><img src=\"https://colab.research.google.com/assets/colab-badge.svg\" alt=\"Open In Colab\"/></a>"
      ]
    },
    {
      "cell_type": "markdown",
      "source": [
        "### 1. [Merge Sorted Array](https://leetcode.com/problems/merge-sorted-array/description/?envType=study-plan-v2&envId=top-interview-150)"
      ],
      "metadata": {
        "id": "N_mlHA2TuO_x"
      }
    },
    {
      "cell_type": "code",
      "source": [
        "for i in range(m,len(nums1)):\n",
        "    nums1[i] = nums2[i-m]\n",
        "\n",
        "nums1 = nums1.sort()"
      ],
      "metadata": {
        "id": "oIlvDa09uUwN"
      },
      "execution_count": null,
      "outputs": []
    },
    {
      "cell_type": "markdown",
      "source": [
        "### 2. [Remove Element](https://leetcode.com/problems/remove-element/description/?envType=study-plan-v2&envId=top-interview-150)"
      ],
      "metadata": {
        "id": "J_rw3YIEs5nb"
      }
    },
    {
      "cell_type": "code",
      "execution_count": null,
      "metadata": {
        "id": "YOYw3WS_gDyz"
      },
      "outputs": [],
      "source": [
        "count = nums.count(val)\n",
        "for i in range(count):\n",
        "    nums.remove(val)\n",
        "    nums.append(101)\n",
        "return len(nums) - count"
      ]
    },
    {
      "cell_type": "markdown",
      "source": [
        "### 3. [Remove Duplicates from Sorted Array](https://leetcode.com/problems/remove-duplicates-from-sorted-array/description/?envType=study-plan-v2&envId=top-interview-150)"
      ],
      "metadata": {
        "id": "0BBe7Rnj7MhB"
      }
    },
    {
      "cell_type": "code",
      "source": [
        "index = 1\n",
        "for i in range(1, len(nums)):\n",
        "    if nums[i-1] != nums[i]:\n",
        "        nums[index] = nums[i]\n",
        "        index += 1\n",
        "return index"
      ],
      "metadata": {
        "id": "_GQkAWBe7Zmg"
      },
      "execution_count": null,
      "outputs": []
    },
    {
      "cell_type": "markdown",
      "source": [
        "### 4. [Remove Duplicates from Sorted Array II](https://leetcode.com/problems/remove-duplicates-from-sorted-array-ii/description/?envType=study-plan-v2&envId=top-interview-150)"
      ],
      "metadata": {
        "id": "153rxpbdekLa"
      }
    },
    {
      "cell_type": "code",
      "source": [],
      "metadata": {
        "id": "asv6H4eje5Ov"
      },
      "execution_count": null,
      "outputs": []
    },
    {
      "cell_type": "markdown",
      "source": [
        "### 5. [Majority Element](https://leetcode.com/problems/majority-element/description/?envType=study-plan-v2&envId=top-interview-150)"
      ],
      "metadata": {
        "id": "4L9_4Hxye6VE"
      }
    },
    {
      "cell_type": "code",
      "source": [
        "def majorityElement(self, nums: List[int]) -> int:\n",
        "        dict = {}\n",
        "        for i in set(nums):\n",
        "            dict[i] = nums.count(i)\n",
        "        key = [k for k,v in dict.items() if v==max(dict.values())]\n",
        "        return key[0]"
      ],
      "metadata": {
        "id": "pR2DHEYqfDuP"
      },
      "execution_count": null,
      "outputs": []
    },
    {
      "cell_type": "markdown",
      "source": [
        "### 6. [Rotate Array](https://leetcode.com/problems/rotate-array/description/?envType=study-plan-v2&envId=top-interview-150)"
      ],
      "metadata": {
        "id": "lg1r-ygXb-FE"
      }
    },
    {
      "cell_type": "code",
      "source": [
        "  def rotate(self, nums: List[int], k: int) -> None:\n",
        "      if len(nums) == 0:\n",
        "          return []\n",
        "      if k == 0:\n",
        "          return nums\n",
        "      if k > len(nums):\n",
        "          k = k % len(nums)\n",
        "      nums.reverse()\n",
        "      nums[:k] = reversed(nums[:k])\n",
        "      nums[k:] = reversed(nums[k:])"
      ],
      "metadata": {
        "id": "vRhFdUJgcLiF"
      },
      "execution_count": null,
      "outputs": []
    },
    {
      "cell_type": "markdown",
      "source": [
        "### 7. [Best Time to Buy and Sell Stock](https://leetcode.com/problems/best-time-to-buy-and-sell-stock/description/?envType=study-plan-v2&envId=top-interview-150)"
      ],
      "metadata": {
        "id": "4zSIkXHPpdHs"
      }
    },
    {
      "cell_type": "code",
      "source": [
        "def maxProfit(self, prices: List[int]) -> int:\n",
        "    min_price = prices[0]\n",
        "    max_profit = 0\n",
        "\n",
        "    for i in prices[1:]:\n",
        "        max_profit = max(max_profit, i-min_price)\n",
        "        min_price = min(min_price, i)\n",
        "\n",
        "    return max_profit"
      ],
      "metadata": {
        "id": "r1lM0BiFpmXU"
      },
      "execution_count": null,
      "outputs": []
    },
    {
      "cell_type": "markdown",
      "source": [
        "### 8. [Best Time to Buy and Sell Stock II](https://leetcode.com/problems/best-time-to-buy-and-sell-stock-ii/description/?envType=study-plan-v2&envId=top-interview-150)"
      ],
      "metadata": {
        "id": "6oIwxkFMrI8c"
      }
    },
    {
      "cell_type": "code",
      "source": [
        "class Solution:\n",
        "    def maxProfit(self, prices: List[int]) -> int:\n",
        "        max = 0\n",
        "        for i in range(1, len(prices)):\n",
        "            if prices[i] > prices[i-1]:\n",
        "                max += prices[i] - prices[i-1]\n",
        "        return max"
      ],
      "metadata": {
        "id": "H1TxwtGerJeT"
      },
      "execution_count": null,
      "outputs": []
    },
    {
      "cell_type": "markdown",
      "source": [
        "### 9. [Jump Game](https://leetcode.com/problems/jump-game/description/?envType=study-plan-v2&envId=top-interview-150)"
      ],
      "metadata": {
        "id": "tTQeav2IxhRH"
      }
    },
    {
      "cell_type": "code",
      "source": [
        "class Solution:\n",
        "    def canJump(self, nums: List[int]) -> bool:\n",
        "        curr = nums[0]\n",
        "        for i in range(1,len(nums)):\n",
        "            if curr == 0:\n",
        "                return False\n",
        "            curr -= 1\n",
        "            curr = max(curr, nums[i])\n",
        "        return True"
      ],
      "metadata": {
        "id": "987vUvqWxhxJ"
      },
      "execution_count": null,
      "outputs": []
    }
  ]
}