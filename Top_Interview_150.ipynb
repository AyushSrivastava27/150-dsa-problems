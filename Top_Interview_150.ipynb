{
  "nbformat": 4,
  "nbformat_minor": 0,
  "metadata": {
    "colab": {
      "provenance": [],
      "authorship_tag": "ABX9TyOyv+B7R99gIhN9Eqrr68HO",
      "include_colab_link": true
    },
    "kernelspec": {
      "name": "python3",
      "display_name": "Python 3"
    },
    "language_info": {
      "name": "python"
    }
  },
  "cells": [
    {
      "cell_type": "markdown",
      "metadata": {
        "id": "view-in-github",
        "colab_type": "text"
      },
      "source": [
        "<a href=\"https://colab.research.google.com/github/AyushSrivastava27/150-dsa-problems/blob/main/Top_Interview_150.ipynb\" target=\"_parent\"><img src=\"https://colab.research.google.com/assets/colab-badge.svg\" alt=\"Open In Colab\"/></a>"
      ]
    },
    {
      "cell_type": "markdown",
      "source": [
        "### 1. [Merge Sorted Array](https://leetcode.com/problems/merge-sorted-array/description/?envType=study-plan-v2&envId=top-interview-150)"
      ],
      "metadata": {
        "id": "N_mlHA2TuO_x"
      }
    },
    {
      "cell_type": "code",
      "source": [
        "for i in range(m,len(nums1)):\n",
        "    nums1[i] = nums2[i-m]\n",
        "\n",
        "nums1 = nums1.sort()"
      ],
      "metadata": {
        "id": "oIlvDa09uUwN"
      },
      "execution_count": null,
      "outputs": []
    },
    {
      "cell_type": "markdown",
      "source": [
        "### 2. [Remove Element](https://leetcode.com/problems/remove-element/description/?envType=study-plan-v2&envId=top-interview-150)"
      ],
      "metadata": {
        "id": "J_rw3YIEs5nb"
      }
    },
    {
      "cell_type": "code",
      "execution_count": null,
      "metadata": {
        "id": "YOYw3WS_gDyz"
      },
      "outputs": [],
      "source": [
        "count = nums.count(val)\n",
        "for i in range(count):\n",
        "    nums.remove(val)\n",
        "    nums.append(101)\n",
        "return len(nums) - count"
      ]
    }
  ]
}