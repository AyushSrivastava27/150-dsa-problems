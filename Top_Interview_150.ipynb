{
  "nbformat": 4,
  "nbformat_minor": 0,
  "metadata": {
    "colab": {
      "provenance": [],
      "authorship_tag": "ABX9TyPPqEHT6yRzi7iecOwb0LjV",
      "include_colab_link": true
    },
    "kernelspec": {
      "name": "python3",
      "display_name": "Python 3"
    },
    "language_info": {
      "name": "python"
    }
  },
  "cells": [
    {
      "cell_type": "markdown",
      "metadata": {
        "id": "view-in-github",
        "colab_type": "text"
      },
      "source": [
        "<a href=\"https://colab.research.google.com/github/AyushSrivastava27/150-dsa-problems/blob/main/Top_Interview_150.ipynb\" target=\"_parent\"><img src=\"https://colab.research.google.com/assets/colab-badge.svg\" alt=\"Open In Colab\"/></a>"
      ]
    },
    {
      "cell_type": "markdown",
      "source": [
        "### 1. [Merge Sorted Array](https://leetcode.com/problems/merge-sorted-array/description/?envType=study-plan-v2&envId=top-interview-150)"
      ],
      "metadata": {
        "id": "N_mlHA2TuO_x"
      }
    },
    {
      "cell_type": "code",
      "source": [
        "for i in range(m,len(nums1)):\n",
        "    nums1[i] = nums2[i-m]\n",
        "\n",
        "nums1 = nums1.sort()"
      ],
      "metadata": {
        "id": "oIlvDa09uUwN"
      },
      "execution_count": null,
      "outputs": []
    },
    {
      "cell_type": "markdown",
      "source": [
        "### 2. [Remove Element](https://leetcode.com/problems/remove-element/description/?envType=study-plan-v2&envId=top-interview-150)"
      ],
      "metadata": {
        "id": "J_rw3YIEs5nb"
      }
    },
    {
      "cell_type": "code",
      "execution_count": null,
      "metadata": {
        "id": "YOYw3WS_gDyz"
      },
      "outputs": [],
      "source": [
        "count = nums.count(val)\n",
        "for i in range(count):\n",
        "    nums.remove(val)\n",
        "    nums.append(101)\n",
        "return len(nums) - count"
      ]
    },
    {
      "cell_type": "markdown",
      "source": [
        "### 3. [Remove Duplicates from Sorted Array](https://leetcode.com/problems/remove-duplicates-from-sorted-array/description/?envType=study-plan-v2&envId=top-interview-150)"
      ],
      "metadata": {
        "id": "0BBe7Rnj7MhB"
      }
    },
    {
      "cell_type": "code",
      "source": [
        "index = 1\n",
        "for i in range(1, len(nums)):\n",
        "    if nums[i-1] != nums[i]:\n",
        "        nums[index] = nums[i]\n",
        "        index += 1\n",
        "return index"
      ],
      "metadata": {
        "id": "_GQkAWBe7Zmg"
      },
      "execution_count": null,
      "outputs": []
    },
    {
      "cell_type": "markdown",
      "source": [
        "### 4. [Remove Duplicates from Sorted Array II](https://leetcode.com/problems/remove-duplicates-from-sorted-array-ii/description/?envType=study-plan-v2&envId=top-interview-150)"
      ],
      "metadata": {
        "id": "153rxpbdekLa"
      }
    },
    {
      "cell_type": "code",
      "source": [],
      "metadata": {
        "id": "asv6H4eje5Ov"
      },
      "execution_count": null,
      "outputs": []
    },
    {
      "cell_type": "markdown",
      "source": [
        "### 5. [Majority Element](https://leetcode.com/problems/majority-element/description/?envType=study-plan-v2&envId=top-interview-150)"
      ],
      "metadata": {
        "id": "4L9_4Hxye6VE"
      }
    },
    {
      "cell_type": "code",
      "source": [
        "def majorityElement(self, nums: List[int]) -> int:\n",
        "        dict = {}\n",
        "        for i in set(nums):\n",
        "            dict[i] = nums.count(i)\n",
        "        key = [k for k,v in dict.items() if v==max(dict.values())]\n",
        "        return key[0]"
      ],
      "metadata": {
        "id": "pR2DHEYqfDuP"
      },
      "execution_count": null,
      "outputs": []
    }
  ]
}